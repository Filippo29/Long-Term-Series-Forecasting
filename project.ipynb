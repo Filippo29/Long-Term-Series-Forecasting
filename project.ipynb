{
 "cells": [
  {
   "cell_type": "markdown",
   "metadata": {},
   "source": [
    "### Define Parameters"
   ]
  },
  {
   "cell_type": "markdown",
   "metadata": {},
   "source": [
    "Definition of parameters for importing the dataset and for training."
   ]
  },
  {
   "cell_type": "code",
   "execution_count": 1,
   "metadata": {},
   "outputs": [],
   "source": [
    "seq_len = 100\n",
    "pred_len = 200\n",
    "\n",
    "batch_size = 256\n",
    "max_epochs = 50"
   ]
  },
  {
   "cell_type": "markdown",
   "metadata": {},
   "source": [
    "### Import libraries and dataset"
   ]
  },
  {
   "cell_type": "markdown",
   "metadata": {},
   "source": [
    "Import all the needed libraries and the dataset with the class defined inside of weather/dataset.py"
   ]
  },
  {
   "cell_type": "code",
   "execution_count": 2,
   "metadata": {},
   "outputs": [
    {
     "name": "stdout",
     "output_type": "stream",
     "text": [
      "Found files: ['mpi_roof_2023a.csv', 'mpi_roof_2021b.csv', 'mpi_roof_2021a.csv', 'mpi_roof_2020b.csv', 'mpi_roof_2023b.csv', 'mpi_roof_2022a.csv', 'mpi_roof_2020a.csv', 'mpi_roof_2022b.csv']\n"
     ]
    },
    {
     "name": "stderr",
     "output_type": "stream",
     "text": [
      "/home/filippo/Desktop/nn_project/weather/dataset.py:60: FutureWarning: the convert_dtype parameter is deprecated and will be removed in a future version.  Do ``ser.astype(object).apply()`` instead if you want ``convert_dtype=False``.\n",
      "  dates_df['month'] = dates_df[\"Date Time\"].apply(lambda row:row.month,1)\n",
      "/home/filippo/Desktop/nn_project/weather/dataset.py:61: FutureWarning: the convert_dtype parameter is deprecated and will be removed in a future version.  Do ``ser.astype(object).apply()`` instead if you want ``convert_dtype=False``.\n",
      "  dates_df['day'] = dates_df[\"Date Time\"].apply(lambda row:row.day,1)\n",
      "/home/filippo/Desktop/nn_project/weather/dataset.py:62: FutureWarning: the convert_dtype parameter is deprecated and will be removed in a future version.  Do ``ser.astype(object).apply()`` instead if you want ``convert_dtype=False``.\n",
      "  dates_df['weekday'] = dates_df[\"Date Time\"].apply(lambda row:row.weekday(),1)\n",
      "/home/filippo/Desktop/nn_project/weather/dataset.py:63: FutureWarning: the convert_dtype parameter is deprecated and will be removed in a future version.  Do ``ser.astype(object).apply()`` instead if you want ``convert_dtype=False``.\n",
      "  dates_df['hour'] = dates_df[\"Date Time\"].apply(lambda row:row.hour,1)\n"
     ]
    },
    {
     "name": "stdout",
     "output_type": "stream",
     "text": [
      "Found a total of 210441 samples.\n"
     ]
    },
    {
     "name": "stderr",
     "output_type": "stream",
     "text": [
      "/home/filippo/Desktop/nn_project/weather/dataset.py:64: FutureWarning: the convert_dtype parameter is deprecated and will be removed in a future version.  Do ``ser.astype(object).apply()`` instead if you want ``convert_dtype=False``.\n",
      "  dates_df['minute'] = dates_df[\"Date Time\"].apply(lambda row:row.minute,1)\n"
     ]
    }
   ],
   "source": [
    "import numpy as np\n",
    "\n",
    "import torch\n",
    "import torch.nn as nn\n",
    "from torch.utils.data import DataLoader\n",
    "\n",
    "import matplotlib.pyplot as plt\n",
    "\n",
    "from tqdm import tqdm\n",
    "\n",
    "from model import MICN\n",
    "\n",
    "from weather.dataset import weather_dataset\n",
    "\n",
    "dataset = weather_dataset(seq_len=seq_len, pred_len=pred_len)\n",
    "\n",
    "train_set, test_set, valid_set = dataset.split()\n",
    "\n",
    "train_loader = DataLoader(train_set, batch_size=batch_size, shuffle=True)\n",
    "test_loader = DataLoader(test_set, batch_size=batch_size, shuffle=True)\n",
    "valid_loader = DataLoader(valid_set, batch_size=batch_size, shuffle=True)"
   ]
  },
  {
   "cell_type": "code",
   "execution_count": 3,
   "metadata": {},
   "outputs": [
    {
     "name": "stdout",
     "output_type": "stream",
     "text": [
      "Using device cuda:0\n"
     ]
    }
   ],
   "source": [
    "device = torch.device(\"cuda:0\") if torch.cuda.is_available() else torch.device(\"cpu\")\n",
    "print(\"Using device\", device)\n",
    "\n",
    "model = MICN(seq_len, pred_len, device=device)"
   ]
  },
  {
   "cell_type": "code",
   "execution_count": 6,
   "metadata": {},
   "outputs": [
    {
     "name": "stderr",
     "output_type": "stream",
     "text": [
      "  0%|          | 0/81 [00:00<?, ?it/s]\n"
     ]
    }
   ],
   "source": [
    "for seq_times, sequence, true_times, true in tqdm(test_loader):\n",
    "    seq_times, sequence, true_times, true = seq_times.to(device), sequence.to(device), true_times.to(device), true.to(device)\n",
    "    out = model(sequence, seq_times, true_times)\n",
    "    break"
   ]
  },
  {
   "cell_type": "markdown",
   "metadata": {},
   "source": [
    "## Train the model"
   ]
  },
  {
   "cell_type": "markdown",
   "metadata": {},
   "source": [
    "This block includes a loop over each epochs where each of them is made by  \n",
    "    - Train loop: this part is responsible of iterating over the shuffled train set and for each train sample an optimization step is performed with the selected optimizer (Adam). Furthermore, to help convergence, I've used an exponentially decreasing learning rate; this mechanism scales down the learning rate once each 5 epochs by a rate gamma (0.9 in this case).  \n",
    "    - Validation loop: the difference here is that gradients are not calculated on the model's output, the role of this part is to do early stopping when the model stops getting better on data which has not been seen during training, more precisely, when the validation performance does not get better after some epochs (patience) then the training is stopped because the model starts to overfit training data. Additionally, when the validation loss is better then the previously obtained a checkpoint of the model is saved."
   ]
  },
  {
   "cell_type": "code",
   "execution_count": 4,
   "metadata": {},
   "outputs": [
    {
     "name": "stdout",
     "output_type": "stream",
     "text": [
      "Starting epoch 1\n"
     ]
    },
    {
     "name": "stderr",
     "output_type": "stream",
     "text": [
      "  0%|          | 0/657 [00:00<?, ?it/s]/home/filippo/anaconda3/envs/nn_project/lib/python3.11/site-packages/torch/nn/modules/conv.py:306: UserWarning: Plan failed with a cudnnException: CUDNN_BACKEND_EXECUTION_PLAN_DESCRIPTOR: cudnnFinalize Descriptor Failed cudnn_status: CUDNN_STATUS_NOT_SUPPORTED (Triggered internally at ../aten/src/ATen/native/cudnn/Conv_v8.cpp:919.)\n",
      "  return F.conv1d(input, weight, bias, self.stride,\n",
      "/home/filippo/anaconda3/envs/nn_project/lib/python3.11/site-packages/torch/autograd/graph.py:744: UserWarning: Plan failed with a cudnnException: CUDNN_BACKEND_EXECUTION_PLAN_DESCRIPTOR: cudnnFinalize Descriptor Failed cudnn_status: CUDNN_STATUS_NOT_SUPPORTED (Triggered internally at ../aten/src/ATen/native/cudnn/Conv_v8.cpp:919.)\n",
      "  return Variable._execution_engine.run_backward(  # Calls into the C++ engine to run the backward pass\n",
      "100%|██████████| 657/657 [00:36<00:00, 18.21it/s]\n"
     ]
    },
    {
     "name": "stdout",
     "output_type": "stream",
     "text": [
      "Average train loss: 217311.5861396499\n"
     ]
    },
    {
     "name": "stderr",
     "output_type": "stream",
     "text": [
      "100%|██████████| 82/82 [00:01<00:00, 44.20it/s]\n"
     ]
    },
    {
     "name": "stdout",
     "output_type": "stream",
     "text": [
      "Average validation loss: 171125.19073932926\n",
      "Starting epoch 2\n"
     ]
    },
    {
     "name": "stderr",
     "output_type": "stream",
     "text": [
      "100%|██████████| 657/657 [00:35<00:00, 18.73it/s]\n"
     ]
    },
    {
     "name": "stdout",
     "output_type": "stream",
     "text": [
      "Average train loss: 190956.35590277778\n"
     ]
    },
    {
     "name": "stderr",
     "output_type": "stream",
     "text": [
      "100%|██████████| 82/82 [00:01<00:00, 42.80it/s]\n"
     ]
    },
    {
     "name": "stdout",
     "output_type": "stream",
     "text": [
      "Average validation loss: 149546.58041158537\n",
      "Starting epoch 3\n"
     ]
    },
    {
     "name": "stderr",
     "output_type": "stream",
     "text": [
      "100%|██████████| 657/657 [00:38<00:00, 17.12it/s]\n"
     ]
    },
    {
     "name": "stdout",
     "output_type": "stream",
     "text": [
      "Average train loss: 170106.63586853122\n"
     ]
    },
    {
     "name": "stderr",
     "output_type": "stream",
     "text": [
      "100%|██████████| 82/82 [00:02<00:00, 40.72it/s]\n"
     ]
    },
    {
     "name": "stdout",
     "output_type": "stream",
     "text": [
      "Average validation loss: 131288.82888719512\n",
      "Starting epoch 4\n"
     ]
    },
    {
     "name": "stderr",
     "output_type": "stream",
     "text": [
      "100%|██████████| 657/657 [00:35<00:00, 18.65it/s]\n"
     ]
    },
    {
     "name": "stdout",
     "output_type": "stream",
     "text": [
      "Average train loss: 152431.45220937976\n"
     ]
    },
    {
     "name": "stderr",
     "output_type": "stream",
     "text": [
      "100%|██████████| 82/82 [00:01<00:00, 44.24it/s]\n"
     ]
    },
    {
     "name": "stdout",
     "output_type": "stream",
     "text": [
      "Average validation loss: 115671.14510289633\n",
      "Starting epoch 5\n"
     ]
    },
    {
     "name": "stderr",
     "output_type": "stream",
     "text": [
      "100%|██████████| 657/657 [00:34<00:00, 18.98it/s]\n"
     ]
    },
    {
     "name": "stdout",
     "output_type": "stream",
     "text": [
      "Average train loss: 137289.73108114535\n"
     ]
    },
    {
     "name": "stderr",
     "output_type": "stream",
     "text": [
      "100%|██████████| 82/82 [00:01<00:00, 43.69it/s]\n"
     ]
    },
    {
     "name": "stdout",
     "output_type": "stream",
     "text": [
      "Average validation loss: 102173.62099847561\n",
      "Starting epoch 6\n"
     ]
    },
    {
     "name": "stderr",
     "output_type": "stream",
     "text": [
      "100%|██████████| 657/657 [00:35<00:00, 18.67it/s]\n"
     ]
    },
    {
     "name": "stdout",
     "output_type": "stream",
     "text": [
      "Average train loss: 124253.670769121\n"
     ]
    },
    {
     "name": "stderr",
     "output_type": "stream",
     "text": [
      "100%|██████████| 82/82 [00:01<00:00, 43.66it/s]\n"
     ]
    },
    {
     "name": "stdout",
     "output_type": "stream",
     "text": [
      "Average validation loss: 90484.37223704268\n",
      "Starting epoch 7\n"
     ]
    },
    {
     "name": "stderr",
     "output_type": "stream",
     "text": [
      "100%|██████████| 657/657 [00:35<00:00, 18.74it/s]\n"
     ]
    },
    {
     "name": "stdout",
     "output_type": "stream",
     "text": [
      "Average train loss: 113527.84416619102\n"
     ]
    },
    {
     "name": "stderr",
     "output_type": "stream",
     "text": [
      "100%|██████████| 82/82 [00:01<00:00, 42.97it/s]\n"
     ]
    },
    {
     "name": "stdout",
     "output_type": "stream",
     "text": [
      "Average validation loss: 81261.57536204268\n",
      "Starting epoch 8\n"
     ]
    },
    {
     "name": "stderr",
     "output_type": "stream",
     "text": [
      "100%|██████████| 657/657 [00:36<00:00, 18.13it/s]\n"
     ]
    },
    {
     "name": "stdout",
     "output_type": "stream",
     "text": [
      "Average train loss: 104668.14739107687\n"
     ]
    },
    {
     "name": "stderr",
     "output_type": "stream",
     "text": [
      "100%|██████████| 82/82 [00:02<00:00, 40.04it/s]\n"
     ]
    },
    {
     "name": "stdout",
     "output_type": "stream",
     "text": [
      "Average validation loss: 73130.29897103658\n",
      "Starting epoch 9\n"
     ]
    },
    {
     "name": "stderr",
     "output_type": "stream",
     "text": [
      "100%|██████████| 657/657 [00:36<00:00, 18.01it/s]\n"
     ]
    },
    {
     "name": "stdout",
     "output_type": "stream",
     "text": [
      "Average train loss: 96878.1506849315\n"
     ]
    },
    {
     "name": "stderr",
     "output_type": "stream",
     "text": [
      "100%|██████████| 82/82 [00:01<00:00, 44.16it/s]\n"
     ]
    },
    {
     "name": "stdout",
     "output_type": "stream",
     "text": [
      "Average validation loss: 65950.22318025914\n",
      "Starting epoch 10\n"
     ]
    },
    {
     "name": "stderr",
     "output_type": "stream",
     "text": [
      "100%|██████████| 657/657 [00:34<00:00, 18.85it/s]\n"
     ]
    },
    {
     "name": "stdout",
     "output_type": "stream",
     "text": [
      "Average train loss: 90068.31116818874\n"
     ]
    },
    {
     "name": "stderr",
     "output_type": "stream",
     "text": [
      "100%|██████████| 82/82 [00:01<00:00, 44.16it/s]\n"
     ]
    },
    {
     "name": "stdout",
     "output_type": "stream",
     "text": [
      "Average validation loss: 59627.91377667683\n",
      "Starting epoch 11\n"
     ]
    },
    {
     "name": "stderr",
     "output_type": "stream",
     "text": [
      "100%|██████████| 657/657 [00:34<00:00, 18.90it/s]\n"
     ]
    },
    {
     "name": "stdout",
     "output_type": "stream",
     "text": [
      "Average train loss: 84125.19761344178\n"
     ]
    },
    {
     "name": "stderr",
     "output_type": "stream",
     "text": [
      "100%|██████████| 82/82 [00:01<00:00, 43.98it/s]\n"
     ]
    },
    {
     "name": "stdout",
     "output_type": "stream",
     "text": [
      "Average validation loss: 54071.13152629573\n",
      "Starting epoch 12\n"
     ]
    },
    {
     "name": "stderr",
     "output_type": "stream",
     "text": [
      "100%|██████████| 657/657 [00:35<00:00, 18.41it/s]\n"
     ]
    },
    {
     "name": "stdout",
     "output_type": "stream",
     "text": [
      "Average train loss: 79147.65772450533\n"
     ]
    },
    {
     "name": "stderr",
     "output_type": "stream",
     "text": [
      "100%|██████████| 82/82 [00:01<00:00, 43.66it/s]\n"
     ]
    },
    {
     "name": "stdout",
     "output_type": "stream",
     "text": [
      "Average validation loss: 49667.18378429878\n",
      "Starting epoch 13\n"
     ]
    },
    {
     "name": "stderr",
     "output_type": "stream",
     "text": [
      "100%|██████████| 657/657 [00:34<00:00, 18.77it/s]\n"
     ]
    },
    {
     "name": "stdout",
     "output_type": "stream",
     "text": [
      "Average train loss: 75057.85424395929\n"
     ]
    },
    {
     "name": "stderr",
     "output_type": "stream",
     "text": [
      "100%|██████████| 82/82 [00:01<00:00, 44.11it/s]\n"
     ]
    },
    {
     "name": "stdout",
     "output_type": "stream",
     "text": [
      "Average validation loss: 45768.54015815549\n",
      "Starting epoch 14\n"
     ]
    },
    {
     "name": "stderr",
     "output_type": "stream",
     "text": [
      "100%|██████████| 657/657 [00:34<00:00, 19.02it/s]\n"
     ]
    },
    {
     "name": "stdout",
     "output_type": "stream",
     "text": [
      "Average train loss: 71509.4916821252\n"
     ]
    },
    {
     "name": "stderr",
     "output_type": "stream",
     "text": [
      "100%|██████████| 82/82 [00:01<00:00, 44.17it/s]\n"
     ]
    },
    {
     "name": "stdout",
     "output_type": "stream",
     "text": [
      "Average validation loss: 42355.26848323171\n",
      "Starting epoch 15\n"
     ]
    },
    {
     "name": "stderr",
     "output_type": "stream",
     "text": [
      "100%|██████████| 657/657 [00:34<00:00, 19.01it/s]\n"
     ]
    },
    {
     "name": "stdout",
     "output_type": "stream",
     "text": [
      "Average train loss: 68471.45673991629\n"
     ]
    },
    {
     "name": "stderr",
     "output_type": "stream",
     "text": [
      "100%|██████████| 82/82 [00:01<00:00, 44.22it/s]\n"
     ]
    },
    {
     "name": "stdout",
     "output_type": "stream",
     "text": [
      "Average validation loss: 39419.44912347561\n",
      "Starting epoch 16\n"
     ]
    },
    {
     "name": "stderr",
     "output_type": "stream",
     "text": [
      "100%|██████████| 657/657 [00:34<00:00, 19.01it/s]\n"
     ]
    },
    {
     "name": "stdout",
     "output_type": "stream",
     "text": [
      "Average train loss: 65928.20996242389\n"
     ]
    },
    {
     "name": "stderr",
     "output_type": "stream",
     "text": [
      "100%|██████████| 82/82 [00:01<00:00, 44.00it/s]\n"
     ]
    },
    {
     "name": "stdout",
     "output_type": "stream",
     "text": [
      "Average validation loss: 36938.06864519817\n",
      "Starting epoch 17\n"
     ]
    },
    {
     "name": "stderr",
     "output_type": "stream",
     "text": [
      "100%|██████████| 657/657 [00:35<00:00, 18.71it/s]\n"
     ]
    },
    {
     "name": "stdout",
     "output_type": "stream",
     "text": [
      "Average train loss: 63816.90758775685\n"
     ]
    },
    {
     "name": "stderr",
     "output_type": "stream",
     "text": [
      "100%|██████████| 82/82 [00:01<00:00, 42.94it/s]\n"
     ]
    },
    {
     "name": "stdout",
     "output_type": "stream",
     "text": [
      "Average validation loss: 34990.96055640244\n",
      "Starting epoch 18\n"
     ]
    },
    {
     "name": "stderr",
     "output_type": "stream",
     "text": [
      "100%|██████████| 657/657 [00:34<00:00, 18.93it/s]\n"
     ]
    },
    {
     "name": "stdout",
     "output_type": "stream",
     "text": [
      "Average train loss: 62172.16940758181\n"
     ]
    },
    {
     "name": "stderr",
     "output_type": "stream",
     "text": [
      "100%|██████████| 82/82 [00:01<00:00, 44.47it/s]\n"
     ]
    },
    {
     "name": "stdout",
     "output_type": "stream",
     "text": [
      "Average validation loss: 33333.875738376526\n",
      "Starting epoch 19\n"
     ]
    },
    {
     "name": "stderr",
     "output_type": "stream",
     "text": [
      "100%|██████████| 657/657 [00:35<00:00, 18.63it/s]\n"
     ]
    },
    {
     "name": "stdout",
     "output_type": "stream",
     "text": [
      "Average train loss: 60787.77608923135\n"
     ]
    },
    {
     "name": "stderr",
     "output_type": "stream",
     "text": [
      "100%|██████████| 82/82 [00:01<00:00, 43.07it/s]\n"
     ]
    },
    {
     "name": "stdout",
     "output_type": "stream",
     "text": [
      "Average validation loss: 31940.374595083842\n",
      "Starting epoch 20\n"
     ]
    },
    {
     "name": "stderr",
     "output_type": "stream",
     "text": [
      "100%|██████████| 657/657 [00:37<00:00, 17.70it/s]\n"
     ]
    },
    {
     "name": "stdout",
     "output_type": "stream",
     "text": [
      "Average train loss: 59677.010553415144\n"
     ]
    },
    {
     "name": "stderr",
     "output_type": "stream",
     "text": [
      "100%|██████████| 82/82 [00:01<00:00, 44.25it/s]\n"
     ]
    },
    {
     "name": "stdout",
     "output_type": "stream",
     "text": [
      "Average validation loss: 30771.824433117377\n",
      "Starting epoch 21\n"
     ]
    },
    {
     "name": "stderr",
     "output_type": "stream",
     "text": [
      "100%|██████████| 657/657 [00:34<00:00, 19.07it/s]\n"
     ]
    },
    {
     "name": "stdout",
     "output_type": "stream",
     "text": [
      "Average train loss: 58768.45169211378\n"
     ]
    },
    {
     "name": "stderr",
     "output_type": "stream",
     "text": [
      "100%|██████████| 82/82 [00:01<00:00, 44.31it/s]\n"
     ]
    },
    {
     "name": "stdout",
     "output_type": "stream",
     "text": [
      "Average validation loss: 29826.794493140245\n",
      "Starting epoch 22\n"
     ]
    },
    {
     "name": "stderr",
     "output_type": "stream",
     "text": [
      "100%|██████████| 657/657 [00:34<00:00, 19.08it/s]\n"
     ]
    },
    {
     "name": "stdout",
     "output_type": "stream",
     "text": [
      "Average train loss: 58126.17337923326\n"
     ]
    },
    {
     "name": "stderr",
     "output_type": "stream",
     "text": [
      "100%|██████████| 82/82 [00:01<00:00, 44.25it/s]\n"
     ]
    },
    {
     "name": "stdout",
     "output_type": "stream",
     "text": [
      "Average validation loss: 29132.788633765245\n",
      "Starting epoch 23\n"
     ]
    },
    {
     "name": "stderr",
     "output_type": "stream",
     "text": [
      "100%|██████████| 657/657 [00:34<00:00, 19.07it/s]\n"
     ]
    },
    {
     "name": "stdout",
     "output_type": "stream",
     "text": [
      "Average train loss: 57638.54302226027\n"
     ]
    },
    {
     "name": "stderr",
     "output_type": "stream",
     "text": [
      "100%|██████████| 82/82 [00:01<00:00, 44.22it/s]\n"
     ]
    },
    {
     "name": "stdout",
     "output_type": "stream",
     "text": [
      "Average validation loss: 28555.642697217987\n",
      "Starting epoch 24\n"
     ]
    },
    {
     "name": "stderr",
     "output_type": "stream",
     "text": [
      "100%|██████████| 657/657 [00:34<00:00, 19.06it/s]\n"
     ]
    },
    {
     "name": "stdout",
     "output_type": "stream",
     "text": [
      "Average train loss: 57222.20893978311\n"
     ]
    },
    {
     "name": "stderr",
     "output_type": "stream",
     "text": [
      "100%|██████████| 82/82 [00:01<00:00, 44.32it/s]\n"
     ]
    },
    {
     "name": "stdout",
     "output_type": "stream",
     "text": [
      "Average validation loss: 28119.901795922255\n",
      "Starting epoch 25\n"
     ]
    },
    {
     "name": "stderr",
     "output_type": "stream",
     "text": [
      "100%|██████████| 657/657 [00:34<00:00, 19.07it/s]\n"
     ]
    },
    {
     "name": "stdout",
     "output_type": "stream",
     "text": [
      "Average train loss: 56995.41639316971\n"
     ]
    },
    {
     "name": "stderr",
     "output_type": "stream",
     "text": [
      "100%|██████████| 82/82 [00:01<00:00, 43.30it/s]\n"
     ]
    },
    {
     "name": "stdout",
     "output_type": "stream",
     "text": [
      "Average validation loss: 27824.364710365855\n",
      "Starting epoch 26\n"
     ]
    },
    {
     "name": "stderr",
     "output_type": "stream",
     "text": [
      "100%|██████████| 657/657 [00:34<00:00, 18.94it/s]\n"
     ]
    },
    {
     "name": "stdout",
     "output_type": "stream",
     "text": [
      "Average train loss: 56941.348601598176\n"
     ]
    },
    {
     "name": "stderr",
     "output_type": "stream",
     "text": [
      "100%|██████████| 82/82 [00:01<00:00, 43.26it/s]\n"
     ]
    },
    {
     "name": "stdout",
     "output_type": "stream",
     "text": [
      "Average validation loss: 27650.004239710364\n",
      "Starting epoch 27\n"
     ]
    },
    {
     "name": "stderr",
     "output_type": "stream",
     "text": [
      "100%|██████████| 657/657 [00:35<00:00, 18.68it/s]\n"
     ]
    },
    {
     "name": "stdout",
     "output_type": "stream",
     "text": [
      "Average train loss: 56886.59813784246\n"
     ]
    },
    {
     "name": "stderr",
     "output_type": "stream",
     "text": [
      "100%|██████████| 82/82 [00:01<00:00, 43.10it/s]\n"
     ]
    },
    {
     "name": "stdout",
     "output_type": "stream",
     "text": [
      "Average validation loss: 27583.56874047256\n",
      "Starting epoch 28\n"
     ]
    },
    {
     "name": "stderr",
     "output_type": "stream",
     "text": [
      "100%|██████████| 657/657 [00:36<00:00, 18.16it/s]\n"
     ]
    },
    {
     "name": "stdout",
     "output_type": "stream",
     "text": [
      "Average train loss: 56993.573859042044\n"
     ]
    },
    {
     "name": "stderr",
     "output_type": "stream",
     "text": [
      "100%|██████████| 82/82 [00:01<00:00, 42.07it/s]\n"
     ]
    },
    {
     "name": "stdout",
     "output_type": "stream",
     "text": [
      "Average validation loss: 27583.41954077744\n",
      "Starting epoch 29\n"
     ]
    },
    {
     "name": "stderr",
     "output_type": "stream",
     "text": [
      "100%|██████████| 657/657 [00:35<00:00, 18.55it/s]\n"
     ]
    },
    {
     "name": "stdout",
     "output_type": "stream",
     "text": [
      "Average train loss: 57108.927463850836\n"
     ]
    },
    {
     "name": "stderr",
     "output_type": "stream",
     "text": [
      "100%|██████████| 82/82 [00:01<00:00, 42.42it/s]\n"
     ]
    },
    {
     "name": "stdout",
     "output_type": "stream",
     "text": [
      "Average validation loss: 27626.40565453506\n",
      "Starting epoch 30\n"
     ]
    },
    {
     "name": "stderr",
     "output_type": "stream",
     "text": [
      "100%|██████████| 657/657 [00:35<00:00, 18.75it/s]\n"
     ]
    },
    {
     "name": "stdout",
     "output_type": "stream",
     "text": [
      "Average train loss: 57253.2545840468\n"
     ]
    },
    {
     "name": "stderr",
     "output_type": "stream",
     "text": [
      "100%|██████████| 82/82 [00:01<00:00, 44.23it/s]\n"
     ]
    },
    {
     "name": "stdout",
     "output_type": "stream",
     "text": [
      "Average validation loss: 27696.03184546494\n",
      "Starting epoch 31\n"
     ]
    },
    {
     "name": "stderr",
     "output_type": "stream",
     "text": [
      "100%|██████████| 657/657 [00:35<00:00, 18.73it/s]\n"
     ]
    },
    {
     "name": "stdout",
     "output_type": "stream",
     "text": [
      "Average train loss: 57433.96896998668\n"
     ]
    },
    {
     "name": "stderr",
     "output_type": "stream",
     "text": [
      "100%|██████████| 82/82 [00:01<00:00, 44.25it/s]\n"
     ]
    },
    {
     "name": "stdout",
     "output_type": "stream",
     "text": [
      "Average validation loss: 27806.247689596035\n",
      "Starting epoch 32\n"
     ]
    },
    {
     "name": "stderr",
     "output_type": "stream",
     "text": [
      "100%|██████████| 657/657 [00:35<00:00, 18.53it/s]\n"
     ]
    },
    {
     "name": "stdout",
     "output_type": "stream",
     "text": [
      "Average train loss: 57637.57316043569\n"
     ]
    },
    {
     "name": "stderr",
     "output_type": "stream",
     "text": [
      "100%|██████████| 82/82 [00:02<00:00, 40.15it/s]"
     ]
    },
    {
     "name": "stdout",
     "output_type": "stream",
     "text": [
      "Average validation loss: 27905.243044969513\n",
      "Stopping at epoch 32\n",
      "Best validation loss reached at epoch 27\n"
     ]
    },
    {
     "name": "stderr",
     "output_type": "stream",
     "text": [
      "\n"
     ]
    }
   ],
   "source": [
    "criterion = nn.MSELoss(reduction='mean')\n",
    "criterion = criterion.to(device)\n",
    "optim = torch.optim.Adam(model.parameters(), lr=1e-6)\n",
    "scheduler = torch.optim.lr_scheduler.ExponentialLR(optim, gamma=0.9)\n",
    "\n",
    "train_losses = []\n",
    "val_losses = []\n",
    "\n",
    "patience = 3\n",
    "epochs_without_improving = 0\n",
    "\n",
    "best_epoch = -1\n",
    "best_val_loss = 0\n",
    "\n",
    "for epoch in range(max_epochs):\n",
    "    print(\"Starting epoch\", epoch+1)\n",
    "    model.train()\n",
    "    losses = []\n",
    "    for seq_times, sequence, true_times, true in tqdm(train_loader):\n",
    "        seq_times, sequence, true_times, true = seq_times.to(device), sequence.to(device), true_times.to(device), true.to(device)\n",
    "        out = model(sequence, seq_times, true_times)\n",
    "        \n",
    "        loss = criterion(out, true)\n",
    "        losses.append(loss.detach().item())\n",
    "\n",
    "        loss.backward()\n",
    "        optim.step()\n",
    "    if epoch % 5 == 0:\n",
    "        scheduler.step()\n",
    "    avg_train_loss = np.mean(losses)\n",
    "    print(\"Average train loss:\", avg_train_loss)\n",
    "    train_losses.append(avg_train_loss)\n",
    "    \n",
    "    model.eval()\n",
    "    losses = []\n",
    "    with torch.no_grad():\n",
    "        for seq_times, sequence, true_times, true in tqdm(valid_loader):\n",
    "            seq_times, sequence, true_times, true = seq_times.to(device), sequence.to(device), true_times.to(device), true.to(device)\n",
    "            out = model(sequence, seq_times, true_times)\n",
    "            \n",
    "            loss = criterion(out, true)\n",
    "            losses.append(loss.detach().item())\n",
    "    avg_val_loss = np.mean(losses)\n",
    "    print(\"Average validation loss:\", avg_val_loss)\n",
    "    val_losses.append(avg_val_loss)\n",
    "\n",
    "    if best_epoch == -1 or avg_val_loss < best_val_loss:\n",
    "        best_epoch = epoch\n",
    "        best_val_loss = avg_val_loss\n",
    "        epochs_without_improving = 0\n",
    "\n",
    "        save_name = \"MICN_\" + str(seq_len) + \"_\" + str(pred_len) + \"_\" + str(epoch+1) + \".pt\"\n",
    "        torch.save(model.state_dict(), save_name)\n",
    "    else:\n",
    "        epochs_without_improving += 1\n",
    "    \n",
    "    if epochs_without_improving > patience:\n",
    "        print(\"Stopping at epoch\", epoch+1)\n",
    "        print(\"Best validation loss reached at epoch\", best_epoch)\n",
    "        model.load_state_dict(torch.load(save_name))\n",
    "        epoch = best_epoch\n",
    "        break"
   ]
  },
  {
   "cell_type": "markdown",
   "metadata": {},
   "source": [
    "### Plot losses"
   ]
  },
  {
   "cell_type": "markdown",
   "metadata": {},
   "source": [
    "From the plot below we can see how, after some epochs of training, the model stops to improve on unseen data while keeping getting better on the train set. For this reason, there is no benefit in continuing the training as it would only lead to worse generalization and thus worse performance. This behavior is what we call overfitting."
   ]
  },
  {
   "cell_type": "code",
   "execution_count": 5,
   "metadata": {},
   "outputs": [
    {
     "data": {
      "image/png": "[encoded data removed]",
      "text/plain": [
       "<Figure size 640x480 with 1 Axes>"
      ]
     },
     "metadata": {},
     "output_type": "display_data"
    }
   ],
   "source": [
    "assert len(train_losses) == len(val_losses)\n",
    "x = [i+1 for i in range(len(train_losses))]\n",
    "plt.title(\"Loss over \" + str(len(train_losses)) + \" iterations\")\n",
    "plt.plot(x, train_losses, color=\"red\", label=\"Train loss\")\n",
    "plt.plot(x, val_losses, color=\"green\", label=\"Validation loss\")\n",
    "plt.legend()\n",
    "\n",
    "plt.show()"
   ]
  },
  {
   "cell_type": "markdown",
   "metadata": {},
   "source": [
    "## Evaluate on the test set"
   ]
  },
  {
   "cell_type": "markdown",
   "metadata": {},
   "source": [
    "To test the model from a checkpoint you can execute this cell but make sure to also execute the first two since it requires the test set and some parameters."
   ]
  },
  {
   "cell_type": "code",
   "execution_count": 3,
   "metadata": {},
   "outputs": [
    {
     "name": "stderr",
     "output_type": "stream",
     "text": [
      "100%|██████████| 81/81 [00:25<00:00,  3.20it/s]"
     ]
    },
    {
     "name": "stdout",
     "output_type": "stream",
     "text": [
      "Average test loss: 70416.55261381173\n",
      "Average test loss per time step: 352.0827630690586\n"
     ]
    },
    {
     "name": "stderr",
     "output_type": "stream",
     "text": [
      "\n"
     ]
    }
   ],
   "source": [
    "if 'model' not in locals():\n",
    "    save_name = \"MICN_100_200_28.pt\" # if model isn't defined change this line with the model you want to evaluate\n",
    "    assert int(save_name[5:8]) == seq_len and int(save_name[9:12]) == pred_len\n",
    "    model = MICN(seq_len, pred_len)\n",
    "    model.load_state_dict(torch.load(save_name))\n",
    "if 'device' not in locals():\n",
    "    device = torch.device(\"cpu\")\n",
    "    \n",
    "criterion = nn.MSELoss()\n",
    "test_losses = []\n",
    "model.eval()\n",
    "with torch.no_grad():\n",
    "    for seq_times, sequence, true_times, true in tqdm(test_loader):\n",
    "        seq_times, sequence, true_times, true = seq_times.to(device), sequence.to(device), true_times.to(device), true.to(device)\n",
    "        out = model(sequence, seq_times, true_times)\n",
    "            \n",
    "        loss = criterion(out, true)\n",
    "        test_losses.append(loss.detach().item())\n",
    "print(\"Average test loss:\", np.mean(test_losses))\n",
    "print(\"Average test loss per time step:\", np.mean(test_losses)/pred_len)"
   ]
  },
  {
   "cell_type": "markdown",
   "metadata": {},
   "source": [
    "### Example of comparison between true and predicted values"
   ]
  },
  {
   "cell_type": "code",
   "execution_count": 26,
   "metadata": {},
   "outputs": [
    {
     "name": "stdout",
     "output_type": "stream",
     "text": [
      "avg loss per single time step 173.866796875\n",
      "Predicted True\n",
      "17.2389 10.07\n",
      "22.609104 10.32\n",
      "17.958998 10.23\n",
      "22.74022 10.22\n",
      "21.782307 10.28\n",
      "11.646132 10.72\n",
      "20.578651 10.99\n",
      "9.782032 11.36\n",
      "19.43762 11.88\n",
      "14.287766 12.3\n",
      "21.841356 12.69\n",
      "19.597767 13.27\n",
      "15.2204685 13.76\n",
      "28.00536 14.51\n",
      "24.703417 15.24\n",
      "21.699364 15.33\n",
      "19.378704 15.68\n",
      "26.747719 15.99\n",
      "19.63111 16.53\n",
      "3.0085135 16.85\n",
      "15.946166 17.3\n",
      "18.180391 17.58\n",
      "27.020609 17.7\n",
      "17.235775 17.98\n",
      "23.673567 18.43\n",
      "28.13021 18.44\n",
      "18.295845 18.44\n",
      "18.431252 19.0\n",
      "19.556358 19.79\n",
      "18.372204 20.6\n",
      "18.55842 21.06\n",
      "18.750736 20.89\n",
      "18.934889 21.19\n",
      "21.37128 21.64\n",
      "20.4164 22.06\n",
      "13.7168255 22.44\n",
      "25.103046 22.15\n",
      "20.999163 22.34\n",
      "25.794891 22.39\n",
      "20.635092 22.37\n",
      "21.085987 22.37\n",
      "19.219254 22.43\n",
      "18.689238 22.25\n",
      "25.766294 22.0\n",
      "17.725327 21.95\n",
      "21.18807 22.32\n",
      "19.877151 22.36\n",
      "20.854832 21.94\n",
      "18.679502 22.05\n",
      "21.646397 22.33\n",
      "24.134468 22.33\n",
      "19.455555 22.71\n",
      "25.282114 22.4\n",
      "27.237198 22.32\n",
      "19.319849 21.04\n",
      "18.172646 18.7\n",
      "26.68005 18.42\n",
      "26.611097 18.7\n",
      "19.989902 18.5\n",
      "24.932688 17.19\n",
      "27.008907 17.0\n",
      "16.138964 17.3\n",
      "24.57894 17.51\n",
      "15.948675 17.76\n",
      "25.28171 18.37\n",
      "29.231386 18.56\n",
      "20.202188 18.57\n",
      "23.830694 18.36\n",
      "28.819181 18.34\n",
      "17.845985 18.27\n",
      "18.307037 18.23\n",
      "21.68659 18.02\n",
      "9.639614 18.01\n",
      "24.291239 17.75\n",
      "26.472328 17.73\n",
      "17.95431 17.66\n",
      "17.423237 17.44\n",
      "19.039278 17.26\n",
      "24.85814 17.08\n",
      "25.317837 16.77\n",
      "22.958513 16.63\n",
      "23.701166 16.73\n",
      "18.231403 16.55\n",
      "25.555614 16.38\n",
      "24.764038 16.28\n",
      "18.424728 15.98\n",
      "26.203287 16.07\n",
      "23.952251 15.77\n",
      "24.79309 15.79\n",
      "25.629988 16.36\n",
      "28.424404 15.66\n",
      "19.10944 15.39\n",
      "17.600056 15.47\n",
      "17.921183 15.43\n",
      "17.330873 15.47\n",
      "22.173328 15.33\n",
      "25.98432 14.94\n",
      "6.633274 14.87\n",
      "25.340033 14.85\n",
      "19.045815 14.8\n",
      "16.378178 14.75\n",
      "18.071447 14.85\n",
      "17.042238 14.79\n",
      "26.67907 14.66\n",
      "13.333571 14.59\n",
      "23.371391 14.51\n",
      "28.168678 14.42\n",
      "16.35805 14.38\n",
      "17.539076 14.28\n",
      "24.953766 14.27\n",
      "15.141088 14.31\n",
      "15.85235 14.35\n",
      "21.26734 14.25\n",
      "18.624874 13.99\n",
      "23.873041 13.89\n",
      "17.848274 13.88\n",
      "26.188335 13.99\n",
      "15.625889 14.09\n",
      "22.71054 14.08\n",
      "15.611503 13.99\n",
      "24.795391 13.8\n",
      "20.657087 13.69\n",
      "18.521467 13.65\n",
      "25.180212 13.39\n",
      "27.515316 12.96\n",
      "24.946281 12.3\n",
      "13.218995 11.75\n",
      "25.603783 11.31\n",
      "13.152846 10.92\n",
      "18.324696 10.53\n",
      "22.645977 10.07\n",
      "6.465296 9.55\n",
      "25.667072 9.31\n",
      "22.579645 9.15\n",
      "26.09133 9.03\n",
      "15.328698 8.95\n",
      "3.512604 8.86\n",
      "15.258351 8.66\n",
      "13.290616 8.36\n",
      "15.805935 8.07\n",
      "15.918666 7.83\n",
      "18.171387 7.77\n",
      "19.61342 7.71\n",
      "23.809177 7.67\n",
      "15.196041 7.6\n",
      "22.907797 7.55\n",
      "22.550354 7.12\n",
      "17.626728 6.7\n",
      "23.882816 6.34\n",
      "18.28484 6.14\n",
      "16.20564 6.08\n",
      "20.572693 5.89\n",
      "25.637672 5.41\n",
      "23.866772 4.99\n",
      "16.64511 4.6\n",
      "26.082218 4.4\n",
      "15.719473 4.28\n",
      "17.4 4.21\n",
      "16.27125 4.19\n",
      "6.3246775 4.16\n",
      "19.887077 4.23\n",
      "27.378834 4.3\n",
      "19.246067 4.27\n",
      "17.513062 4.27\n",
      "18.939781 4.27\n",
      "21.191359 4.23\n",
      "15.508737 4.2\n",
      "22.562042 4.23\n",
      "17.325497 4.32\n",
      "8.789192 4.34\n",
      "21.455704 4.4\n",
      "18.680956 4.41\n",
      "18.263414 4.47\n",
      "18.539005 4.53\n",
      "17.382076 4.58\n",
      "21.833801 4.53\n",
      "26.339846 4.47\n",
      "17.732578 4.47\n",
      "18.014618 4.25\n",
      "19.284811 3.96\n",
      "20.189238 4.0\n",
      "19.63498 3.96\n",
      "17.802078 3.69\n",
      "17.82139 3.46\n",
      "17.703403 3.1\n",
      "18.648083 2.85\n",
      "25.498241 2.84\n",
      "20.949804 2.8\n",
      "19.237038 2.72\n",
      "22.791054 2.74\n",
      "24.431751 2.99\n",
      "15.881189 3.22\n",
      "21.717869 3.24\n",
      "22.909157 3.36\n",
      "23.58103 3.38\n",
      "23.298594 3.27\n",
      "12.104523 3.24\n",
      "21.700966 3.25\n",
      "22.71801 3.14\n",
      "21.914574 3.14\n"
     ]
    }
   ],
   "source": [
    "for seq_times, sequence, true_times, true in test_loader:\n",
    "    seq_times, sequence, true_times, true = seq_times.to(device), sequence.to(device), true_times.to(device), true.to(device)\n",
    "    out = model(sequence, seq_times, true_times).detach()[0]\n",
    "    print(\"avg loss per single time step\", criterion(out, true[0]).item()/pred_len)\n",
    "    print(\"Predicted True\")\n",
    "    for i in range(pred_len):\n",
    "        print(out[i][1].cpu().numpy(), true[0][i][1].cpu().numpy())\n",
    "    break"
   ]
  }
 ],
 "metadata": {
  "kernelspec": {
   "display_name": "nn_project",
   "language": "python",
   "name": "python3"
  },
  "language_info": {
   "codemirror_mode": {
    "name": "ipython",
    "version": 3
   },
   "file_extension": ".py",
   "mimetype": "text/x-python",
   "name": "python",
   "nbconvert_exporter": "python",
   "pygments_lexer": "ipython3",
   "version": "3.11.9"
  }
 },
 "nbformat": 4,
 "nbformat_minor": 2
}
