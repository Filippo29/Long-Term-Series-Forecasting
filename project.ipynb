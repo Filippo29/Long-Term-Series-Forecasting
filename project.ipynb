{
 "cells": [
  {
   "cell_type": "markdown",
   "metadata": {},
   "source": [
    "### Define Parameters"
   ]
  },
  {
   "cell_type": "code",
   "execution_count": 1,
   "metadata": {},
   "outputs": [],
   "source": [
    "seq_len = 100\n",
    "pred_len = 200\n",
    "\n",
    "batch_size = 256\n",
    "max_epochs = 50"
   ]
  },
  {
   "cell_type": "markdown",
   "metadata": {},
   "source": [
    "### Import libraries and dataset"
   ]
  },
  {
   "cell_type": "code",
   "execution_count": 2,
   "metadata": {},
   "outputs": [
    {
     "name": "stdout",
     "output_type": "stream",
     "text": [
      "Found files: ['mpi_roof_2023a.csv', 'mpi_roof_2021b.csv', 'mpi_roof_2021a.csv', 'mpi_roof_2020b.csv', 'mpi_roof_2023b.csv', 'mpi_roof_2022a.csv', 'mpi_roof_2020a.csv', 'mpi_roof_2022b.csv']\n"
     ]
    },
    {
     "name": "stderr",
     "output_type": "stream",
     "text": [
      "/home/filippo/Desktop/nn_project/weather/dataset.py:60: FutureWarning: the convert_dtype parameter is deprecated and will be removed in a future version.  Do ``ser.astype(object).apply()`` instead if you want ``convert_dtype=False``.\n",
      "  dates_df['month'] = dates_df[\"Date Time\"].apply(lambda row:row.month,1)\n",
      "/home/filippo/Desktop/nn_project/weather/dataset.py:61: FutureWarning: the convert_dtype parameter is deprecated and will be removed in a future version.  Do ``ser.astype(object).apply()`` instead if you want ``convert_dtype=False``.\n",
      "  dates_df['day'] = dates_df[\"Date Time\"].apply(lambda row:row.day,1)\n",
      "/home/filippo/Desktop/nn_project/weather/dataset.py:62: FutureWarning: the convert_dtype parameter is deprecated and will be removed in a future version.  Do ``ser.astype(object).apply()`` instead if you want ``convert_dtype=False``.\n",
      "  dates_df['weekday'] = dates_df[\"Date Time\"].apply(lambda row:row.weekday(),1)\n",
      "/home/filippo/Desktop/nn_project/weather/dataset.py:63: FutureWarning: the convert_dtype parameter is deprecated and will be removed in a future version.  Do ``ser.astype(object).apply()`` instead if you want ``convert_dtype=False``.\n",
      "  dates_df['hour'] = dates_df[\"Date Time\"].apply(lambda row:row.hour,1)\n"
     ]
    },
    {
     "name": "stdout",
     "output_type": "stream",
     "text": [
      "Found a total of 210441 samples.\n"
     ]
    }
   ],
   "source": [
    "import numpy as np\n",
    "\n",
    "import torch\n",
    "import torch.nn as nn\n",
    "from torch.utils.data import DataLoader\n",
    "\n",
    "import matplotlib.pyplot as plt\n",
    "\n",
    "from tqdm import tqdm\n",
    "\n",
    "from model import MICN\n",
    "\n",
    "from weather.dataset import weather_dataset\n",
    "\n",
    "dataset = weather_dataset(seq_len=seq_len, pred_len=pred_len)\n",
    "\n",
    "train_set, test_set, valid_set = dataset.split()\n",
    "\n",
    "train_loader = DataLoader(train_set, batch_size=batch_size, shuffle=True)\n",
    "test_loader = DataLoader(test_set, batch_size=batch_size, shuffle=True)\n",
    "valid_loader = DataLoader(valid_set, batch_size=batch_size, shuffle=True)"
   ]
  },
  {
   "cell_type": "code",
   "execution_count": 3,
   "metadata": {},
   "outputs": [
    {
     "name": "stdout",
     "output_type": "stream",
     "text": [
      "Using device cuda:0\n"
     ]
    }
   ],
   "source": [
    "device = torch.device(\"cuda:0\") if torch.cuda.is_available() else torch.device(\"cpu\")\n",
    "print(\"Using device\", device)\n",
    "\n",
    "model = MICN(seq_len, pred_len, device=device)"
   ]
  },
  {
   "cell_type": "markdown",
   "metadata": {},
   "source": [
    "## Train the model"
   ]
  },
  {
   "cell_type": "code",
   "execution_count": 5,
   "metadata": {},
   "outputs": [
    {
     "name": "stdout",
     "output_type": "stream",
     "text": [
      "Starting epoch 1\n"
     ]
    },
    {
     "name": "stderr",
     "output_type": "stream",
     "text": [
      "  0%|          | 0/657 [00:00<?, ?it/s]/home/filippo/anaconda3/envs/nn_project/lib/python3.11/site-packages/torch/autograd/graph.py:744: UserWarning: Plan failed with a cudnnException: CUDNN_BACKEND_EXECUTION_PLAN_DESCRIPTOR: cudnnFinalize Descriptor Failed cudnn_status: CUDNN_STATUS_NOT_SUPPORTED (Triggered internally at ../aten/src/ATen/native/cudnn/Conv_v8.cpp:919.)\n",
      "  return Variable._execution_engine.run_backward(  # Calls into the C++ engine to run the backward pass\n",
      "100%|█████████▉| 656/657 [00:38<00:00, 17.15it/s]/home/filippo/anaconda3/envs/nn_project/lib/python3.11/site-packages/torch/nn/modules/conv.py:306: UserWarning: Plan failed with a cudnnException: CUDNN_BACKEND_EXECUTION_PLAN_DESCRIPTOR: cudnnFinalize Descriptor Failed cudnn_status: CUDNN_STATUS_NOT_SUPPORTED (Triggered internally at ../aten/src/ATen/native/cudnn/Conv_v8.cpp:919.)\n",
      "  return F.conv1d(input, weight, bias, self.stride,\n",
      "100%|██████████| 657/657 [00:38<00:00, 17.25it/s]\n"
     ]
    },
    {
     "name": "stdout",
     "output_type": "stream",
     "text": [
      "Average train loss: 213419.8449391172\n"
     ]
    },
    {
     "name": "stderr",
     "output_type": "stream",
     "text": [
      "100%|██████████| 82/82 [00:02<00:00, 40.11it/s]\n"
     ]
    },
    {
     "name": "stdout",
     "output_type": "stream",
     "text": [
      "Average validation loss: 167730.75038109755\n",
      "Starting epoch 2\n"
     ]
    },
    {
     "name": "stderr",
     "output_type": "stream",
     "text": [
      "100%|██████████| 657/657 [00:38<00:00, 17.20it/s]\n"
     ]
    },
    {
     "name": "stdout",
     "output_type": "stream",
     "text": [
      "Average train loss: 187014.3286244292\n"
     ]
    },
    {
     "name": "stderr",
     "output_type": "stream",
     "text": [
      "100%|██████████| 82/82 [00:02<00:00, 40.07it/s]\n"
     ]
    },
    {
     "name": "stdout",
     "output_type": "stream",
     "text": [
      "Average validation loss: 146168.56783536586\n",
      "Starting epoch 3\n"
     ]
    },
    {
     "name": "stderr",
     "output_type": "stream",
     "text": [
      "100%|██████████| 657/657 [00:38<00:00, 17.26it/s]\n"
     ]
    },
    {
     "name": "stdout",
     "output_type": "stream",
     "text": [
      "Average train loss: 166266.61513032723\n"
     ]
    },
    {
     "name": "stderr",
     "output_type": "stream",
     "text": [
      "100%|██████████| 82/82 [00:02<00:00, 40.22it/s]\n"
     ]
    },
    {
     "name": "stdout",
     "output_type": "stream",
     "text": [
      "Average validation loss: 127985.93330792683\n",
      "Starting epoch 4\n"
     ]
    },
    {
     "name": "stderr",
     "output_type": "stream",
     "text": [
      "100%|██████████| 657/657 [00:38<00:00, 17.22it/s]\n"
     ]
    },
    {
     "name": "stdout",
     "output_type": "stream",
     "text": [
      "Average train loss: 148732.0844511035\n"
     ]
    },
    {
     "name": "stderr",
     "output_type": "stream",
     "text": [
      "100%|██████████| 82/82 [00:02<00:00, 40.38it/s]\n"
     ]
    },
    {
     "name": "stdout",
     "output_type": "stream",
     "text": [
      "Average validation loss: 112500.21122332317\n",
      "Starting epoch 5\n"
     ]
    },
    {
     "name": "stderr",
     "output_type": "stream",
     "text": [
      "100%|██████████| 657/657 [00:38<00:00, 17.29it/s]\n"
     ]
    },
    {
     "name": "stdout",
     "output_type": "stream",
     "text": [
      "Average train loss: 133785.54188070775\n"
     ]
    },
    {
     "name": "stderr",
     "output_type": "stream",
     "text": [
      "100%|██████████| 82/82 [00:02<00:00, 40.06it/s]\n"
     ]
    },
    {
     "name": "stdout",
     "output_type": "stream",
     "text": [
      "Average validation loss: 99186.53153582317\n",
      "Starting epoch 6\n"
     ]
    },
    {
     "name": "stderr",
     "output_type": "stream",
     "text": [
      "100%|██████████| 657/657 [00:38<00:00, 17.25it/s]\n"
     ]
    },
    {
     "name": "stdout",
     "output_type": "stream",
     "text": [
      "Average train loss: 121026.71530156012\n"
     ]
    },
    {
     "name": "stderr",
     "output_type": "stream",
     "text": [
      "100%|██████████| 82/82 [00:02<00:00, 40.06it/s]\n"
     ]
    },
    {
     "name": "stdout",
     "output_type": "stream",
     "text": [
      "Average validation loss: 87662.86766387195\n",
      "Starting epoch 7\n"
     ]
    },
    {
     "name": "stderr",
     "output_type": "stream",
     "text": [
      "100%|██████████| 657/657 [00:37<00:00, 17.29it/s]\n"
     ]
    },
    {
     "name": "stdout",
     "output_type": "stream",
     "text": [
      "Average train loss: 110523.3311810312\n"
     ]
    },
    {
     "name": "stderr",
     "output_type": "stream",
     "text": [
      "100%|██████████| 82/82 [00:02<00:00, 40.16it/s]\n"
     ]
    },
    {
     "name": "stdout",
     "output_type": "stream",
     "text": [
      "Average validation loss: 78612.31726371951\n",
      "Starting epoch 8\n"
     ]
    },
    {
     "name": "stderr",
     "output_type": "stream",
     "text": [
      "100%|██████████| 657/657 [00:38<00:00, 17.20it/s]\n"
     ]
    },
    {
     "name": "stdout",
     "output_type": "stream",
     "text": [
      "Average train loss: 101851.80610254947\n"
     ]
    },
    {
     "name": "stderr",
     "output_type": "stream",
     "text": [
      "100%|██████████| 82/82 [00:02<00:00, 40.25it/s]\n"
     ]
    },
    {
     "name": "stdout",
     "output_type": "stream",
     "text": [
      "Average validation loss: 70662.22580030488\n",
      "Starting epoch 9\n"
     ]
    },
    {
     "name": "stderr",
     "output_type": "stream",
     "text": [
      "100%|██████████| 657/657 [00:35<00:00, 18.52it/s]\n"
     ]
    },
    {
     "name": "stdout",
     "output_type": "stream",
     "text": [
      "Average train loss: 94308.71766790334\n"
     ]
    },
    {
     "name": "stderr",
     "output_type": "stream",
     "text": [
      "100%|██████████| 82/82 [00:02<00:00, 40.69it/s]\n"
     ]
    },
    {
     "name": "stdout",
     "output_type": "stream",
     "text": [
      "Average validation loss: 63672.51133765244\n",
      "Starting epoch 10\n"
     ]
    },
    {
     "name": "stderr",
     "output_type": "stream",
     "text": [
      "100%|██████████| 657/657 [00:36<00:00, 18.02it/s]\n"
     ]
    },
    {
     "name": "stdout",
     "output_type": "stream",
     "text": [
      "Average train loss: 87687.40494197108\n"
     ]
    },
    {
     "name": "stderr",
     "output_type": "stream",
     "text": [
      "100%|██████████| 82/82 [00:02<00:00, 40.23it/s]\n"
     ]
    },
    {
     "name": "stdout",
     "output_type": "stream",
     "text": [
      "Average validation loss: 57505.37466653963\n",
      "Starting epoch 11\n"
     ]
    },
    {
     "name": "stderr",
     "output_type": "stream",
     "text": [
      "100%|██████████| 657/657 [00:37<00:00, 17.30it/s]\n"
     ]
    },
    {
     "name": "stdout",
     "output_type": "stream",
     "text": [
      "Average train loss: 81908.48317993722\n"
     ]
    },
    {
     "name": "stderr",
     "output_type": "stream",
     "text": [
      "100%|██████████| 82/82 [00:02<00:00, 40.10it/s]\n"
     ]
    },
    {
     "name": "stdout",
     "output_type": "stream",
     "text": [
      "Average validation loss: 52077.69169207317\n",
      "Starting epoch 12\n"
     ]
    },
    {
     "name": "stderr",
     "output_type": "stream",
     "text": [
      "100%|██████████| 657/657 [00:37<00:00, 17.41it/s]\n"
     ]
    },
    {
     "name": "stdout",
     "output_type": "stream",
     "text": [
      "Average train loss: 77098.4612763984\n"
     ]
    },
    {
     "name": "stderr",
     "output_type": "stream",
     "text": [
      "100%|██████████| 82/82 [00:02<00:00, 40.23it/s]\n"
     ]
    },
    {
     "name": "stdout",
     "output_type": "stream",
     "text": [
      "Average validation loss: 47747.68507050305\n",
      "Starting epoch 13\n"
     ]
    },
    {
     "name": "stderr",
     "output_type": "stream",
     "text": [
      "100%|██████████| 657/657 [00:37<00:00, 17.46it/s]\n"
     ]
    },
    {
     "name": "stdout",
     "output_type": "stream",
     "text": [
      "Average train loss: 73107.36508870815\n"
     ]
    },
    {
     "name": "stderr",
     "output_type": "stream",
     "text": [
      "100%|██████████| 82/82 [00:01<00:00, 41.39it/s]\n"
     ]
    },
    {
     "name": "stdout",
     "output_type": "stream",
     "text": [
      "Average validation loss: 43944.83646150915\n",
      "Starting epoch 14\n"
     ]
    },
    {
     "name": "stderr",
     "output_type": "stream",
     "text": [
      "100%|██████████| 657/657 [00:37<00:00, 17.45it/s]\n"
     ]
    },
    {
     "name": "stdout",
     "output_type": "stream",
     "text": [
      "Average train loss: 69577.35825128424\n"
     ]
    },
    {
     "name": "stderr",
     "output_type": "stream",
     "text": [
      "100%|██████████| 82/82 [00:02<00:00, 40.12it/s]\n"
     ]
    },
    {
     "name": "stdout",
     "output_type": "stream",
     "text": [
      "Average validation loss: 40598.112471417684\n",
      "Starting epoch 15\n"
     ]
    },
    {
     "name": "stderr",
     "output_type": "stream",
     "text": [
      "100%|██████████| 657/657 [00:38<00:00, 17.10it/s]\n"
     ]
    },
    {
     "name": "stdout",
     "output_type": "stream",
     "text": [
      "Average train loss: 66593.88896023593\n"
     ]
    },
    {
     "name": "stderr",
     "output_type": "stream",
     "text": [
      "100%|██████████| 82/82 [00:01<00:00, 41.60it/s]\n"
     ]
    },
    {
     "name": "stdout",
     "output_type": "stream",
     "text": [
      "Average validation loss: 37704.351800685974\n",
      "Starting epoch 16\n"
     ]
    },
    {
     "name": "stderr",
     "output_type": "stream",
     "text": [
      "100%|██████████| 657/657 [00:37<00:00, 17.39it/s]\n"
     ]
    },
    {
     "name": "stdout",
     "output_type": "stream",
     "text": [
      "Average train loss: 64092.27286077816\n"
     ]
    },
    {
     "name": "stderr",
     "output_type": "stream",
     "text": [
      "100%|██████████| 82/82 [00:01<00:00, 41.06it/s]\n"
     ]
    },
    {
     "name": "stdout",
     "output_type": "stream",
     "text": [
      "Average validation loss: 35241.41534870427\n",
      "Starting epoch 17\n"
     ]
    },
    {
     "name": "stderr",
     "output_type": "stream",
     "text": [
      "100%|██████████| 657/657 [00:38<00:00, 17.28it/s]\n"
     ]
    },
    {
     "name": "stdout",
     "output_type": "stream",
     "text": [
      "Average train loss: 62044.094088898404\n"
     ]
    },
    {
     "name": "stderr",
     "output_type": "stream",
     "text": [
      "100%|██████████| 82/82 [00:01<00:00, 41.81it/s]\n"
     ]
    },
    {
     "name": "stdout",
     "output_type": "stream",
     "text": [
      "Average validation loss: 33378.70612614329\n",
      "Starting epoch 18\n"
     ]
    },
    {
     "name": "stderr",
     "output_type": "stream",
     "text": [
      "100%|██████████| 657/657 [00:37<00:00, 17.53it/s]\n"
     ]
    },
    {
     "name": "stdout",
     "output_type": "stream",
     "text": [
      "Average train loss: 60502.99098054604\n"
     ]
    },
    {
     "name": "stderr",
     "output_type": "stream",
     "text": [
      "100%|██████████| 82/82 [00:01<00:00, 41.60it/s]\n"
     ]
    },
    {
     "name": "stdout",
     "output_type": "stream",
     "text": [
      "Average validation loss: 31823.173589939026\n",
      "Starting epoch 19\n"
     ]
    },
    {
     "name": "stderr",
     "output_type": "stream",
     "text": [
      "100%|██████████| 657/657 [00:37<00:00, 17.55it/s]\n"
     ]
    },
    {
     "name": "stdout",
     "output_type": "stream",
     "text": [
      "Average train loss: 59234.28727287862\n"
     ]
    },
    {
     "name": "stderr",
     "output_type": "stream",
     "text": [
      "100%|██████████| 82/82 [00:01<00:00, 41.76it/s]\n"
     ]
    },
    {
     "name": "stdout",
     "output_type": "stream",
     "text": [
      "Average validation loss: 30486.634503620426\n",
      "Starting epoch 20\n"
     ]
    },
    {
     "name": "stderr",
     "output_type": "stream",
     "text": [
      "100%|██████████| 657/657 [00:37<00:00, 17.68it/s]\n"
     ]
    },
    {
     "name": "stdout",
     "output_type": "stream",
     "text": [
      "Average train loss: 58180.0934943398\n"
     ]
    },
    {
     "name": "stderr",
     "output_type": "stream",
     "text": [
      "100%|██████████| 82/82 [00:01<00:00, 41.70it/s]\n"
     ]
    },
    {
     "name": "stdout",
     "output_type": "stream",
     "text": [
      "Average validation loss: 29361.076410060974\n",
      "Starting epoch 21\n"
     ]
    },
    {
     "name": "stderr",
     "output_type": "stream",
     "text": [
      "100%|██████████| 657/657 [00:37<00:00, 17.70it/s]\n"
     ]
    },
    {
     "name": "stdout",
     "output_type": "stream",
     "text": [
      "Average train loss: 57353.43136415525\n"
     ]
    },
    {
     "name": "stderr",
     "output_type": "stream",
     "text": [
      "100%|██████████| 82/82 [00:02<00:00, 40.85it/s]\n"
     ]
    },
    {
     "name": "stdout",
     "output_type": "stream",
     "text": [
      "Average validation loss: 28464.122975419206\n",
      "Starting epoch 22\n"
     ]
    },
    {
     "name": "stderr",
     "output_type": "stream",
     "text": [
      "100%|██████████| 657/657 [00:37<00:00, 17.71it/s]\n"
     ]
    },
    {
     "name": "stdout",
     "output_type": "stream",
     "text": [
      "Average train loss: 56751.683932648404\n"
     ]
    },
    {
     "name": "stderr",
     "output_type": "stream",
     "text": [
      "100%|██████████| 82/82 [00:01<00:00, 41.54it/s]\n"
     ]
    },
    {
     "name": "stdout",
     "output_type": "stream",
     "text": [
      "Average validation loss: 27818.208770007623\n",
      "Starting epoch 23\n"
     ]
    },
    {
     "name": "stderr",
     "output_type": "stream",
     "text": [
      "100%|██████████| 657/657 [00:37<00:00, 17.72it/s]\n"
     ]
    },
    {
     "name": "stdout",
     "output_type": "stream",
     "text": [
      "Average train loss: 56401.73129518645\n"
     ]
    },
    {
     "name": "stderr",
     "output_type": "stream",
     "text": [
      "100%|██████████| 82/82 [00:01<00:00, 41.47it/s]\n"
     ]
    },
    {
     "name": "stdout",
     "output_type": "stream",
     "text": [
      "Average validation loss: 27326.202267530487\n",
      "Starting epoch 24\n"
     ]
    },
    {
     "name": "stderr",
     "output_type": "stream",
     "text": [
      "100%|██████████| 657/657 [00:37<00:00, 17.58it/s]\n"
     ]
    },
    {
     "name": "stdout",
     "output_type": "stream",
     "text": [
      "Average train loss: 56107.548177083336\n"
     ]
    },
    {
     "name": "stderr",
     "output_type": "stream",
     "text": [
      "100%|██████████| 82/82 [00:01<00:00, 41.61it/s]\n"
     ]
    },
    {
     "name": "stdout",
     "output_type": "stream",
     "text": [
      "Average validation loss: 26997.340558307926\n",
      "Starting epoch 25\n"
     ]
    },
    {
     "name": "stderr",
     "output_type": "stream",
     "text": [
      "100%|██████████| 657/657 [00:37<00:00, 17.75it/s]\n"
     ]
    },
    {
     "name": "stdout",
     "output_type": "stream",
     "text": [
      "Average train loss: 56017.31241081621\n"
     ]
    },
    {
     "name": "stderr",
     "output_type": "stream",
     "text": [
      "100%|██████████| 82/82 [00:02<00:00, 40.77it/s]\n"
     ]
    },
    {
     "name": "stdout",
     "output_type": "stream",
     "text": [
      "Average validation loss: 26779.86463891006\n",
      "Starting epoch 26\n"
     ]
    },
    {
     "name": "stderr",
     "output_type": "stream",
     "text": [
      "100%|██████████| 657/657 [00:37<00:00, 17.69it/s]\n"
     ]
    },
    {
     "name": "stdout",
     "output_type": "stream",
     "text": [
      "Average train loss: 55999.25561560597\n"
     ]
    },
    {
     "name": "stderr",
     "output_type": "stream",
     "text": [
      "100%|██████████| 82/82 [00:01<00:00, 41.76it/s]\n"
     ]
    },
    {
     "name": "stdout",
     "output_type": "stream",
     "text": [
      "Average validation loss: 26689.777105564026\n",
      "Starting epoch 27\n"
     ]
    },
    {
     "name": "stderr",
     "output_type": "stream",
     "text": [
      "100%|██████████| 657/657 [00:37<00:00, 17.74it/s]\n"
     ]
    },
    {
     "name": "stdout",
     "output_type": "stream",
     "text": [
      "Average train loss: 56091.83280417618\n"
     ]
    },
    {
     "name": "stderr",
     "output_type": "stream",
     "text": [
      "100%|██████████| 82/82 [00:01<00:00, 41.81it/s]\n"
     ]
    },
    {
     "name": "stdout",
     "output_type": "stream",
     "text": [
      "Average validation loss: 26680.60997046494\n",
      "Starting epoch 28\n"
     ]
    },
    {
     "name": "stderr",
     "output_type": "stream",
     "text": [
      "100%|██████████| 657/657 [00:37<00:00, 17.67it/s]\n"
     ]
    },
    {
     "name": "stdout",
     "output_type": "stream",
     "text": [
      "Average train loss: 56245.34662171804\n"
     ]
    },
    {
     "name": "stderr",
     "output_type": "stream",
     "text": [
      "100%|██████████| 82/82 [00:01<00:00, 41.51it/s]\n"
     ]
    },
    {
     "name": "stdout",
     "output_type": "stream",
     "text": [
      "Average validation loss: 26733.48173113567\n",
      "Starting epoch 29\n"
     ]
    },
    {
     "name": "stderr",
     "output_type": "stream",
     "text": [
      "100%|██████████| 657/657 [00:37<00:00, 17.60it/s]\n"
     ]
    },
    {
     "name": "stdout",
     "output_type": "stream",
     "text": [
      "Average train loss: 56455.075065996\n"
     ]
    },
    {
     "name": "stderr",
     "output_type": "stream",
     "text": [
      "100%|██████████| 82/82 [00:02<00:00, 40.82it/s]\n"
     ]
    },
    {
     "name": "stdout",
     "output_type": "stream",
     "text": [
      "Average validation loss: 26848.08193597561\n",
      "Starting epoch 30\n"
     ]
    },
    {
     "name": "stderr",
     "output_type": "stream",
     "text": [
      "100%|██████████| 657/657 [00:37<00:00, 17.60it/s]\n"
     ]
    },
    {
     "name": "stdout",
     "output_type": "stream",
     "text": [
      "Average train loss: 56777.51976312786\n"
     ]
    },
    {
     "name": "stderr",
     "output_type": "stream",
     "text": [
      "100%|██████████| 82/82 [00:01<00:00, 41.58it/s]\n"
     ]
    },
    {
     "name": "stdout",
     "output_type": "stream",
     "text": [
      "Average validation loss: 27051.503477515245\n",
      "Starting epoch 31\n"
     ]
    },
    {
     "name": "stderr",
     "output_type": "stream",
     "text": [
      "100%|██████████| 657/657 [00:37<00:00, 17.60it/s]\n"
     ]
    },
    {
     "name": "stdout",
     "output_type": "stream",
     "text": [
      "Average train loss: 57103.538265791474\n"
     ]
    },
    {
     "name": "stderr",
     "output_type": "stream",
     "text": [
      "100%|██████████| 82/82 [00:01<00:00, 41.74it/s]"
     ]
    },
    {
     "name": "stdout",
     "output_type": "stream",
     "text": [
      "Average validation loss: 27335.613447980184\n",
      "Stopping at epoch 31\n",
      "Best validation loss reached at epoch 26\n"
     ]
    },
    {
     "name": "stderr",
     "output_type": "stream",
     "text": [
      "\n"
     ]
    }
   ],
   "source": [
    "criterion = nn.MSELoss(reduction='mean')\n",
    "criterion = criterion.to(device)\n",
    "optim = torch.optim.Adam(model.parameters(), lr=1e-6)\n",
    "scheduler = torch.optim.lr_scheduler.ExponentialLR(optim, gamma=0.9)\n",
    "\n",
    "train_losses = []\n",
    "val_losses = []\n",
    "\n",
    "patience = 3\n",
    "epochs_without_improving = 0\n",
    "\n",
    "best_epoch = -1\n",
    "best_val_loss = 0\n",
    "\n",
    "for epoch in range(max_epochs):\n",
    "    print(\"Starting epoch\", epoch+1)\n",
    "    model.train()\n",
    "    losses = []\n",
    "    for seq_times, sequence, true_times, true in tqdm(train_loader):\n",
    "        seq_times, sequence, true_times, true = seq_times.to(device), sequence.to(device), true_times.to(device), true.to(device)\n",
    "        out = model(sequence, seq_times, true_times)\n",
    "        \n",
    "        loss = criterion(out, true)\n",
    "        losses.append(loss.detach().item())\n",
    "\n",
    "        loss.backward()\n",
    "        optim.step()\n",
    "    if epoch % 5 == 0:\n",
    "        scheduler.step()\n",
    "    avg_train_loss = np.mean(losses)\n",
    "    print(\"Average train loss:\", avg_train_loss)\n",
    "    train_losses.append(avg_train_loss)\n",
    "    \n",
    "    model.eval()\n",
    "    losses = []\n",
    "    with torch.no_grad():\n",
    "        for seq_times, sequence, true_times, true in tqdm(valid_loader):\n",
    "            seq_times, sequence, true_times, true = seq_times.to(device), sequence.to(device), true_times.to(device), true.to(device)\n",
    "            out = model(sequence, seq_times, true_times)\n",
    "            \n",
    "            loss = criterion(out, true)\n",
    "            losses.append(loss.detach().item())\n",
    "    avg_val_loss = np.mean(losses)\n",
    "    print(\"Average validation loss:\", avg_val_loss)\n",
    "    val_losses.append(avg_val_loss)\n",
    "\n",
    "    if best_epoch == -1 or avg_val_loss < best_val_loss:\n",
    "        best_epoch = epoch\n",
    "        best_val_loss = avg_val_loss\n",
    "        epochs_without_improving = 0\n",
    "\n",
    "        save_name = \"MICN_\" + str(seq_len) + \"_\" + str(pred_len) + \"_\" + str(epoch+1) + \".pt\"\n",
    "        torch.save(model.state_dict(), save_name)\n",
    "    else:\n",
    "        epochs_without_improving += 1\n",
    "    \n",
    "    if epochs_without_improving > patience:\n",
    "        print(\"Stopping at epoch\", epoch+1)\n",
    "        print(\"Best validation loss reached at epoch\", best_epoch)\n",
    "        model.load_state_dict(torch.load(save_name))\n",
    "        epoch = best_epoch\n",
    "        break"
   ]
  },
  {
   "cell_type": "markdown",
   "metadata": {},
   "source": [
    "### Plot losses"
   ]
  },
  {
   "cell_type": "code",
   "execution_count": 6,
   "metadata": {},
   "outputs": [
    {
     "data": {
      "image/png": "[encoded data removed]",
      "text/plain": [
       "<Figure size 640x480 with 1 Axes>"
      ]
     },
     "metadata": {},
     "output_type": "display_data"
    }
   ],
   "source": [
    "assert len(train_losses) == len(val_losses)\n",
    "x = [i+1 for i in range(len(train_losses))]\n",
    "plt.title(\"Loss over \" + str(len(train_losses)) + \" iterations\")\n",
    "plt.plot(x, train_losses, color=\"red\", label=\"Train loss\")\n",
    "plt.plot(x, val_losses, color=\"green\", label=\"Validation loss\")\n",
    "plt.legend()\n",
    "\n",
    "plt.show()"
   ]
  },
  {
   "cell_type": "markdown",
   "metadata": {},
   "source": [
    "## Evaluate on the test set"
   ]
  },
  {
   "cell_type": "code",
   "execution_count": 7,
   "metadata": {},
   "outputs": [
    {
     "name": "stderr",
     "output_type": "stream",
     "text": [
      "100%|██████████| 81/81 [00:01<00:00, 41.99it/s]"
     ]
    },
    {
     "name": "stdout",
     "output_type": "stream",
     "text": [
      "Average test loss: 70314.9067804784\n",
      "Average test loss per time step: 351.574533902392\n"
     ]
    },
    {
     "name": "stderr",
     "output_type": "stream",
     "text": [
      "\n"
     ]
    }
   ],
   "source": [
    "if 'model' not in locals():\n",
    "    save_name = \"MICN_100_200_27.pt\" # if model isn't defined change this line with the model you want to evaluate\n",
    "    assert int(save_name[5:8]) == seq_len and int(save_name[9:12]) == pred_len\n",
    "    model = MICN(seq_len, pred_len)\n",
    "    model.load_state_dict(torch.load(save_name))\n",
    "if 'device' not in locals():\n",
    "    device = torch.device(\"cpu\")\n",
    "    \n",
    "criterion = nn.MSELoss()\n",
    "test_losses = []\n",
    "model.eval()\n",
    "with torch.no_grad():\n",
    "    for seq_times, sequence, true_times, true in tqdm(test_loader):\n",
    "        seq_times, sequence, true_times, true = seq_times.to(device), sequence.to(device), true_times.to(device), true.to(device)\n",
    "        out = model(sequence, seq_times, true_times)\n",
    "            \n",
    "        loss = criterion(out, true)\n",
    "        test_losses.append(loss.detach().item())\n",
    "print(\"Average test loss:\", np.mean(test_losses))\n",
    "print(\"Average test loss per time step:\", np.mean(test_losses)/pred_len)"
   ]
  },
  {
   "cell_type": "markdown",
   "metadata": {},
   "source": [
    "### Example of comparison between true and predicted values"
   ]
  },
  {
   "cell_type": "code",
   "execution_count": 12,
   "metadata": {},
   "outputs": [
    {
     "name": "stdout",
     "output_type": "stream",
     "text": [
      "avg loss per single time step 179.47095703125\n",
      "Predicted True\n",
      "9.428913 6.6\n",
      "8.734521 6.89\n",
      "12.489103 7.41\n",
      "8.212005 7.67\n",
      "7.1222434 8.01\n",
      "13.717768 8.28\n",
      "9.698512 8.58\n",
      "12.354833 8.9\n",
      "16.608423 9.28\n",
      "12.052513 9.57\n",
      "9.126389 9.95\n",
      "13.532626 10.2\n",
      "14.998368 10.44\n",
      "15.584295 10.6\n",
      "5.7335777 10.74\n",
      "13.267134 11.05\n",
      "12.151525 11.22\n",
      "8.904237 11.52\n",
      "15.072044 11.8\n",
      "11.588093 11.87\n",
      "15.043135 12.01\n",
      "11.805836 12.13\n",
      "12.434173 12.22\n",
      "11.068117 12.2\n",
      "10.882085 12.35\n",
      "9.897801 12.41\n",
      "5.919553 12.4\n",
      "11.37339 12.43\n",
      "10.863243 12.62\n",
      "9.978371 12.83\n",
      "11.698429 12.72\n",
      "10.992685 12.65\n",
      "18.106993 12.62\n",
      "13.979617 12.8\n",
      "12.492457 12.92\n",
      "12.103337 12.74\n",
      "13.150994 12.81\n",
      "12.413799 12.8\n",
      "8.734615 12.78\n",
      "6.081048 12.78\n",
      "17.49723 12.85\n",
      "7.0521164 12.67\n",
      "11.510727 12.53\n",
      "14.091053 12.52\n",
      "14.544205 12.39\n",
      "11.010211 12.27\n",
      "11.400431 12.21\n",
      "14.25971 12.17\n",
      "13.5329895 12.02\n",
      "11.926586 11.86\n",
      "15.063734 11.73\n",
      "15.975485 11.51\n",
      "12.732637 11.3\n",
      "15.297227 11.09\n",
      "1.0439773 10.78\n",
      "14.356999 10.5\n",
      "15.20216 10.34\n",
      "19.833426 10.09\n",
      "12.371883 9.88\n",
      "12.321824 9.69\n",
      "10.326114 9.47\n",
      "12.937386 9.3\n",
      "11.968685 9.17\n",
      "11.792091 8.99\n",
      "12.878794 8.92\n",
      "10.867262 8.89\n",
      "12.98035 8.58\n",
      "11.722891 8.42\n",
      "16.684807 8.37\n",
      "13.9856 8.41\n",
      "15.448703 8.42\n",
      "12.85856 8.1\n",
      "9.308834 7.92\n",
      "16.929165 7.73\n",
      "11.050662 7.58\n",
      "10.448197 7.14\n",
      "15.860064 6.67\n",
      "8.463911 6.45\n",
      "5.4368863 6.23\n",
      "2.0057745 5.78\n",
      "10.840284 5.72\n",
      "8.297131 5.72\n",
      "11.334587 5.78\n",
      "11.689465 5.19\n",
      "10.322802 5.07\n",
      "10.5887575 4.76\n",
      "10.108541 4.35\n",
      "11.662742 4.26\n",
      "13.084255 4.21\n",
      "11.839689 4.3\n",
      "10.209909 4.45\n",
      "12.405198 4.54\n",
      "6.4540863 4.42\n",
      "10.603147 4.31\n",
      "10.4746475 4.2\n",
      "16.968552 4.08\n",
      "11.463772 3.81\n",
      "10.566357 3.61\n",
      "5.676306 3.34\n",
      "10.564658 3.27\n",
      "15.816215 3.35\n",
      "12.59095 3.41\n",
      "15.920119 3.16\n",
      "15.770571 3.15\n",
      "11.33947 3.03\n",
      "13.534451 2.65\n",
      "13.336639 2.53\n",
      "12.779617 2.69\n",
      "9.263499 2.89\n",
      "9.308378 2.95\n",
      "14.72942 2.93\n",
      "11.959136 2.82\n",
      "7.836607 2.74\n",
      "10.992194 2.73\n",
      "8.951036 2.67\n",
      "12.461677 2.65\n",
      "14.606385 2.6\n",
      "13.822657 2.57\n",
      "11.4484005 2.44\n",
      "6.3423424 2.32\n",
      "6.556798 2.27\n",
      "6.406942 2.27\n",
      "15.996997 2.31\n",
      "12.550001 2.37\n",
      "6.9226236 2.53\n",
      "13.709102 2.5\n",
      "8.011949 2.47\n",
      "14.566187 2.55\n",
      "6.450495 2.64\n",
      "8.566568 2.74\n",
      "11.801624 2.79\n",
      "7.213852 2.86\n",
      "15.805094 2.92\n",
      "14.768737 2.94\n",
      "15.501109 2.94\n",
      "12.0174885 2.95\n",
      "9.1496725 3.06\n",
      "14.764916 3.19\n",
      "11.427666 3.35\n",
      "13.406649 3.5\n",
      "9.770729 3.74\n",
      "11.390293 3.96\n",
      "8.78409 4.06\n",
      "6.969822 4.21\n",
      "8.2999735 4.39\n",
      "11.805335 4.62\n",
      "0.58820367 4.7\n",
      "8.000641 4.95\n",
      "13.869191 4.97\n",
      "9.539398 4.93\n",
      "9.571557 4.97\n",
      "8.96692 5.12\n",
      "17.473438 5.33\n",
      "14.281492 5.41\n",
      "11.904009 5.35\n",
      "9.508632 5.05\n",
      "10.310077 5.14\n",
      "16.640415 5.14\n",
      "14.816475 5.22\n",
      "14.700176 5.34\n",
      "13.12207 5.43\n",
      "13.405687 5.26\n",
      "14.850137 4.99\n",
      "11.392366 4.88\n",
      "13.9053135 5.07\n",
      "12.526187 5.2\n",
      "12.783716 4.94\n",
      "14.917294 4.74\n",
      "10.470346 4.62\n",
      "9.773636 4.46\n",
      "11.330365 3.88\n",
      "13.365474 3.2\n",
      "15.281804 2.87\n",
      "12.60824 2.73\n",
      "7.941247 2.41\n",
      "15.084773 2.37\n",
      "13.001926 2.42\n",
      "15.280321 2.3\n",
      "11.773341 2.2\n",
      "16.363432 2.1\n",
      "15.015942 1.95\n",
      "19.29707 1.76\n",
      "9.31271 1.58\n",
      "7.8631277 1.36\n",
      "15.770014 1.27\n",
      "10.952688 1.24\n",
      "12.545925 1.21\n",
      "9.446451 1.28\n",
      "12.164047 1.32\n",
      "16.750881 1.15\n",
      "9.917261 1.14\n",
      "15.605772 0.96\n",
      "11.007114 0.96\n",
      "11.376747 1.02\n",
      "11.802066 1.06\n",
      "12.530349 1.03\n",
      "13.073576 1.0\n",
      "17.166399 0.82\n",
      "14.75729 0.65\n",
      "12.533378 0.7\n"
     ]
    }
   ],
   "source": [
    "for seq_times, sequence, true_times, true in test_loader:\n",
    "    seq_times, sequence, true_times, true = seq_times.to(device), sequence.to(device), true_times.to(device), true.to(device)\n",
    "    out = model(sequence, seq_times, true_times).detach()[0]\n",
    "    print(\"avg loss per single time step\", criterion(out, true[0]).item()/pred_len)\n",
    "    print(\"Predicted True\")\n",
    "    for i in range(pred_len):\n",
    "        print(out[i][1].cpu().numpy(), true[0][i][1].cpu().numpy())\n",
    "    break"
   ]
  }
 ],
 "metadata": {
  "kernelspec": {
   "display_name": "nn_project",
   "language": "python",
   "name": "python3"
  },
  "language_info": {
   "codemirror_mode": {
    "name": "ipython",
    "version": 3
   },
   "file_extension": ".py",
   "mimetype": "text/x-python",
   "name": "python",
   "nbconvert_exporter": "python",
   "pygments_lexer": "ipython3",
   "version": "3.11.9"
  }
 },
 "nbformat": 4,
 "nbformat_minor": 2
}
